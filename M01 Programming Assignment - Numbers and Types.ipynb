{
 "cells": [
  {
   "cell_type": "code",
   "execution_count": 1,
   "id": "716589ff",
   "metadata": {},
   "outputs": [
    {
     "name": "stdout",
     "output_type": "stream",
     "text": [
      "There are  86400  seconds per day\n",
      "24.0\n",
      "24\n"
     ]
    }
   ],
   "source": [
    "#M01 Programming Assignment - Numbers and Types\n",
    "#author: jdr\n",
    "#created: 2023-01-19\n",
    "#sample program to demo numbers and  types\n",
    "\n",
    "seconds_per_minute = 60 # sixty seconds per minute\n",
    "minutes_per_hour = 60 # sixty minutes per hour\n",
    "seconds_per_hour = seconds_per_minute * minutes_per_hour # multiply sixty and sixty\n",
    "print(\"There are \", seconds_per_hour*24, \" seconds per day\") #prints how many seconds in day\n",
    "seconds_per_day = seconds_per_hour * 24 # assigns variable to seconds per day\n",
    "print(seconds_per_day / seconds_per_hour) # prints floating-point division\n",
    "print(seconds_per_day // seconds_per_hour) # prints interger division"
   ]
  },
  {
   "cell_type": "code",
   "execution_count": null,
   "id": "0efe84a1",
   "metadata": {},
   "outputs": [],
   "source": []
  }
 ],
 "metadata": {
  "kernelspec": {
   "display_name": "Python 3 (ipykernel)",
   "language": "python",
   "name": "python3"
  },
  "language_info": {
   "codemirror_mode": {
    "name": "ipython",
    "version": 3
   },
   "file_extension": ".py",
   "mimetype": "text/x-python",
   "name": "python",
   "nbconvert_exporter": "python",
   "pygments_lexer": "ipython3",
   "version": "3.9.13"
  }
 },
 "nbformat": 4,
 "nbformat_minor": 5
}
